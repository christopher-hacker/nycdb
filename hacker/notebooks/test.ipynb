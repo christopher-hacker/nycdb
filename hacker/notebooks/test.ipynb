{
 "cells": [
  {
   "cell_type": "code",
   "execution_count": 1,
   "metadata": {},
   "outputs": [],
   "source": [
    "import pandas as pd\n",
    "from sqlalchemy import create_engine\n",
    "from sqlalchemy.engine.reflection import Inspector\n",
    "from tqdm import tqdm"
   ]
  },
  {
   "cell_type": "code",
   "execution_count": 2,
   "metadata": {
    "tags": [
     "parameters"
    ]
   },
   "outputs": [],
   "source": [
    "building_ids_df = pd.read_excel(\"../inputs/buliding_ids_for_data.xlsx\")\n",
    "building_ids = tuple(building_ids_df.iloc[:, 0].tolist())"
   ]
  },
  {
   "cell_type": "code",
   "execution_count": 3,
   "metadata": {},
   "outputs": [
    {
     "name": "stderr",
     "output_type": "stream",
     "text": [
      "/var/folders/yl/x_8rvst10b3684hd_346t7cr0000gn/T/ipykernel_82770/715051296.py:11: SADeprecationWarning: The from_engine() method on Inspector is deprecated and will be removed in a future release.  Please use the sqlalchemy.inspect() function on an Engine or Connection in order to acquire an Inspector. (deprecated since: 1.4)\n",
      "  inspector = Inspector.from_engine(engine)\n"
     ]
    },
    {
     "name": "stdout",
     "output_type": "stream",
     "text": [
      "Table Names:\n",
      "spatial_ref_sys\n",
      "real_property_master\n",
      "real_property_parties\n",
      "real_property_references\n",
      "real_property_remarks\n",
      "real_property_legals\n",
      "personal_property_master\n",
      "personal_property_parties\n",
      "personal_property_references\n",
      "personal_property_remarks\n",
      "acris_country_codes\n",
      "acris_document_control_codes\n",
      "acris_property_type_codes\n",
      "acris_ucc_collateral_codes\n",
      "personal_property_legals\n",
      "dob_complaints\n",
      "dob_safety_violations\n",
      "dob_violations\n",
      "hpd_complaints_and_problems\n",
      "hpd_violations\n",
      "topology\n",
      "layer\n",
      "featnames\n",
      "geocode_settings\n",
      "geocode_settings_default\n",
      "direction_lookup\n",
      "secondary_unit_lookup\n",
      "state_lookup\n",
      "street_type_lookup\n",
      "place_lookup\n",
      "county_lookup\n",
      "countysub_lookup\n",
      "zip_lookup_all\n",
      "zip_lookup_base\n",
      "zip_lookup\n",
      "county\n",
      "state\n",
      "place\n",
      "zip_state\n",
      "zip_state_loc\n",
      "cousub\n",
      "edges\n",
      "addrfeat\n",
      "addr\n",
      "zcta5\n",
      "tabblock20\n",
      "faces\n",
      "loader_platform\n",
      "loader_variables\n",
      "loader_lookuptables\n",
      "tract\n",
      "tabblock\n",
      "bg\n",
      "pagc_gaz\n",
      "pagc_lex\n",
      "pagc_rules\n"
     ]
    }
   ],
   "source": [
    "db_user = \"nycdb\"\n",
    "db_password = \"nycdb\"\n",
    "db_host = \"127.0.0.1\"\n",
    "db_port = \"5432\"\n",
    "db_name = \"nycdb\"\n",
    "\n",
    "engine = create_engine(\n",
    "    f\"postgresql://{db_user}:{db_password}@{db_host}:{db_port}/{db_name}\"\n",
    ")\n",
    "\n",
    "inspector = Inspector.from_engine(engine)\n",
    "\n",
    "# Get table information\n",
    "print(\"Table Names:\")\n",
    "print(\"\\n\".join(inspector.get_table_names()))"
   ]
  },
  {
   "cell_type": "code",
   "execution_count": 4,
   "metadata": {},
   "outputs": [
    {
     "name": "stderr",
     "output_type": "stream",
     "text": [
      "100%|██████████| 5/5 [00:13<00:00,  2.62s/it]\n"
     ]
    }
   ],
   "source": [
    "TABLES = [\n",
    "    \"dob_complaints\",\n",
    "    \"dob_safety_violations\",\n",
    "    \"dob_violations\",\n",
    "    \"hpd_complaints_and_problems\",\n",
    "    \"hpd_violations\",\n",
    "]\n",
    "\n",
    "for table in tqdm(TABLES):\n",
    "    query = f\"\"\"\n",
    "        SELECT * FROM {table}\n",
    "        WHERE CAST(bin AS TEXT) IN ({', '.join(f\"'{id}'\" for id in building_ids)}) \n",
    "        \"\"\"\n",
    "    pd.read_sql(query, engine).to_csv(\n",
    "        f\"../csv_samples/{table}_on_buildingid.csv\",\n",
    "        index=False,\n",
    "    )"
   ]
  }
 ],
 "metadata": {
  "kernelspec": {
   "display_name": "venv",
   "language": "python",
   "name": "python3"
  },
  "language_info": {
   "codemirror_mode": {
    "name": "ipython",
    "version": 3
   },
   "file_extension": ".py",
   "mimetype": "text/x-python",
   "name": "python",
   "nbconvert_exporter": "python",
   "pygments_lexer": "ipython3",
   "version": "3.12.4"
  }
 },
 "nbformat": 4,
 "nbformat_minor": 2
}
